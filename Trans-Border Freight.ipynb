{
 "cells": [
  {
   "cell_type": "code",
   "execution_count": 1,
   "id": "06ed4b84-f193-491a-af81-66f3d02e4d3c",
   "metadata": {},
   "outputs": [],
   "source": [
    "# Install libraries\n",
    "# !pip install psutil\n",
    "# !pip install tqdm\n",
    "# !pip install statsmodels\n",
    "# !pip install scipy"
   ]
  },
  {
   "cell_type": "code",
   "execution_count": 5,
   "id": "f53736fc-fdea-4436-8bf7-6edfa8517e25",
   "metadata": {},
   "outputs": [],
   "source": [
    "import os\n",
    "import glob\n",
    "import pandas as pd\n",
    "import psutil\n",
    "from tqdm import tqdm\n"
   ]
  },
  {
   "cell_type": "markdown",
   "id": "ec00361f-b83d-4b7a-8af7-d35f6051d68b",
   "metadata": {},
   "source": [
    "- This project will focus solely on datasets named in the format **dot1_MMYY**, **dot2_MMYY**, and **dot3_MMYY**, where the suffix represents the month and year.\r\n",
    "\r\n",
    "- Since the data is organized into five main folders (**2020**, **2021**, **2022**, **2023**, and **2024**), each containing subfolders for the months with their respective datasets, a **for loop** will be used to iterate through them for processing.\n",
    "- #### Estimating Optimal Chunk Size\r\n",
    "\r\n",
    "To efficiently process large CSV files, a small sample of 1,000 rows is read to estimate the average memory usage per row. The script then calculates 10% of the system’s available RAM and divides it by the average row size to determine the optimal `chunksize` — the number of rows that can be safely processed at a time without overloading memory.\r\n",
    "\r\n",
    "```python\r\n",
    "chunksize = int(memory_budget / row_size)\r\n"
   ]
  },
  {
   "cell_type": "code",
   "execution_count": 12,
   "id": "0ed0be7e-e5aa-43e0-92ea-4219e6f06907",
   "metadata": {},
   "outputs": [
    {
     "name": "stdout",
     "output_type": "stream",
     "text": [
      "------------------------------------------------------\n",
      "Using chunk size: 533942\n",
      "------------------------------------------------------\n"
     ]
    },
    {
     "name": "stderr",
     "output_type": "stream",
     "text": [
      "Processing Years:   0%|                                                                          | 0/5 [00:00<?, ?it/s]\n",
      "Processing folders in 2020:   0%|                                                                | 0/9 [00:00<?, ?it/s]\u001b[A\n",
      "\n",
      "Reading files in Apr 2020:   0%|                                                                 | 0/3 [00:00<?, ?it/s]\u001b[A\u001b[A\n",
      "\n",
      "Reading files in Apr 2020: 100%|█████████████████████████████████████████████████████████| 3/3 [00:00<00:00, 10.76it/s]\u001b[A\u001b[A\n",
      "\n",
      "Processing folders in 2020:  11%|██████▏                                                 | 1/9 [00:00<00:02,  3.39it/s]\u001b[A\n",
      "\n",
      "Reading files in Feb 2020:   0%|                                                                 | 0/3 [00:00<?, ?it/s]\u001b[A\u001b[AC:\\Users\\kpbon\\AppData\\Local\\Temp\\ipykernel_356\\500587952.py:76: DtypeWarning: Columns (4,11) have mixed types. Specify dtype option on import or set low_memory=False.\n",
      "  for chunk in pd.read_csv(file, chunksize=chunksize):\n",
      "\n",
      "\n",
      "Reading files in Feb 2020: 100%|█████████████████████████████████████████████████████████| 3/3 [00:00<00:00,  9.62it/s]\u001b[A\u001b[A\n",
      "\n",
      "Processing folders in 2020:  33%|██████████████████▋                                     | 3/9 [00:00<00:01,  5.08it/s]\u001b[A\n",
      "\n",
      "Reading files in Jan 2020:   0%|                                                                 | 0/3 [00:00<?, ?it/s]\u001b[A\u001b[AC:\\Users\\kpbon\\AppData\\Local\\Temp\\ipykernel_356\\500587952.py:76: DtypeWarning: Columns (4,11) have mixed types. Specify dtype option on import or set low_memory=False.\n",
      "  for chunk in pd.read_csv(file, chunksize=chunksize):\n",
      "\n",
      "\n",
      "Reading files in Jan 2020: 100%|█████████████████████████████████████████████████████████| 3/3 [00:00<00:00,  9.84it/s]\u001b[A\u001b[A\n",
      "\n",
      "Processing folders in 2020:  44%|████████████████████████▉                               | 4/9 [00:00<00:01,  4.20it/s]\u001b[A\n",
      "\n",
      "Reading files in Mar 2020:   0%|                                                                 | 0/3 [00:00<?, ?it/s]\u001b[A\u001b[AC:\\Users\\kpbon\\AppData\\Local\\Temp\\ipykernel_356\\500587952.py:76: DtypeWarning: Columns (4,11) have mixed types. Specify dtype option on import or set low_memory=False.\n",
      "  for chunk in pd.read_csv(file, chunksize=chunksize):\n",
      "\n",
      "\n",
      "Reading files in Mar 2020:  67%|██████████████████████████████████████                   | 2/3 [00:00<00:00,  7.84it/s]\u001b[A\u001b[A\n",
      "\n",
      "Reading files in Mar 2020: 100%|█████████████████████████████████████████████████████████| 3/3 [00:00<00:00,  7.47it/s]\u001b[A\u001b[A\n",
      "\n",
      "Processing folders in 2020:  78%|███████████████████████████████████████████▌            | 7/9 [00:01<00:00,  5.63it/s]\u001b[A\n",
      "\n",
      "Reading files in May 2020:   0%|                                                                 | 0/3 [00:00<?, ?it/s]\u001b[A\u001b[A\n",
      "\n",
      "Reading files in May 2020:  67%|██████████████████████████████████████                   | 2/3 [00:00<00:00,  7.65it/s]\u001b[A\u001b[A\n",
      "\n",
      "Reading files in May 2020: 100%|█████████████████████████████████████████████████████████| 3/3 [00:00<00:00,  7.76it/s]\u001b[A\u001b[A\n",
      "\n",
      "Processing folders in 2020: 100%|████████████████████████████████████████████████████████| 9/9 [00:01<00:00,  5.13it/s]\u001b[A\n",
      "Processing Years:  20%|█████████████▏                                                    | 1/5 [00:01<00:07,  1.76s/it]\n",
      "Processing folders in 2021:   0%|                                                                | 0/8 [00:00<?, ?it/s]\u001b[A\n",
      "\n",
      "Reading files in New folder: 0it [00:00, ?it/s]\u001b[A\u001b[A\n",
      "Processing folders in 2021: 100%|██████████████████████████████████████████████████████| 8/8 [00:00<00:00, 1195.60it/s]\n",
      "\n",
      "Processing folders in 2022:   0%|                                                               | 0/12 [00:00<?, ?it/s]\u001b[A\n",
      "\n",
      "Reading files in August 2022:   0%|                                                              | 0/3 [00:00<?, ?it/s]\u001b[A\u001b[AC:\\Users\\kpbon\\AppData\\Local\\Temp\\ipykernel_356\\500587952.py:76: DtypeWarning: Columns (4,11) have mixed types. Specify dtype option on import or set low_memory=False.\n",
      "  for chunk in pd.read_csv(file, chunksize=chunksize):\n",
      "\n",
      "\n",
      "Reading files in August 2022:  67%|████████████████████████████████████                  | 2/3 [00:00<00:00,  7.75it/s]\u001b[A\u001b[A\n",
      "\n",
      "Reading files in August 2022: 100%|██████████████████████████████████████████████████████| 3/3 [00:00<00:00,  7.47it/s]\u001b[A\u001b[A\n",
      "\n",
      "Processing folders in 2022:  17%|█████████▏                                             | 2/12 [00:00<00:02,  4.89it/s]\u001b[A\n",
      "\n",
      "Reading files in March 2022:   0%|                                                               | 0/3 [00:00<?, ?it/s]\u001b[A\u001b[A\n",
      "\n",
      "Reading files in March 2022:  33%|██████████████████▎                                    | 1/3 [00:00<00:00,  8.83it/s]\u001b[A\u001b[AC:\\Users\\kpbon\\AppData\\Local\\Temp\\ipykernel_356\\500587952.py:76: DtypeWarning: Columns (4,11) have mixed types. Specify dtype option on import or set low_memory=False.\n",
      "  for chunk in pd.read_csv(file, chunksize=chunksize):\n",
      "\n",
      "\n",
      "Reading files in March 2022:  67%|████████████████████████████████████▋                  | 2/3 [00:00<00:00,  5.40it/s]\u001b[A\u001b[A\n",
      "\n",
      "Reading files in March 2022: 100%|███████████████████████████████████████████████████████| 3/3 [00:00<00:00,  6.14it/s]\u001b[A\u001b[A\n",
      "\n",
      "Processing folders in 2022:  67%|████████████████████████████████████▋                  | 8/12 [00:00<00:00,  9.36it/s]\u001b[A\n",
      "\n",
      "Reading files in September 2022:   0%|                                                           | 0/3 [00:00<?, ?it/s]\u001b[A\u001b[AC:\\Users\\kpbon\\AppData\\Local\\Temp\\ipykernel_356\\500587952.py:76: DtypeWarning: Columns (4,11) have mixed types. Specify dtype option on import or set low_memory=False.\n",
      "  for chunk in pd.read_csv(file, chunksize=chunksize):\n",
      "\n",
      "\n",
      "Reading files in September 2022:  67%|██████████████████████████████████                 | 2/3 [00:00<00:00,  6.57it/s]\u001b[A\u001b[A\n",
      "\n",
      "Reading files in September 2022: 100%|███████████████████████████████████████████████████| 3/3 [00:00<00:00,  7.22it/s]\u001b[A\u001b[A\n",
      "\n",
      "Processing folders in 2022: 100%|██████████████████████████████████████████████████████| 12/12 [00:01<00:00,  8.85it/s]\u001b[A\n",
      "Processing Years:  60%|███████████████████████████████████████▌                          | 3/5 [00:03<00:01,  1.03it/s]\n",
      "Processing folders in 2023: 100%|████████████████████████████████████████████████████| 12/12 [00:00<00:00, 2968.37it/s]\u001b[A\n",
      "\n",
      "Processing folders in 2024: 100%|██████████████████████████████████████████████████████| 9/9 [00:00<00:00, 3519.70it/s]\u001b[A\n",
      "Processing Years: 100%|██████████████████████████████████████████████████████████████████| 5/5 [00:03<00:00,  1.58it/s]\n"
     ]
    },
    {
     "name": "stdout",
     "output_type": "stream",
     "text": [
      "------------------------------------------------------\n",
      "All dot1 shape: (214171, 14)\n",
      "All dot2 shape: (585849, 14)\n",
      "All dot3 shape: (135189, 12)\n",
      "------------------------------------------------------\n"
     ]
    }
   ],
   "source": [
    "import os\n",
    "import glob\n",
    "import pandas as pd\n",
    "import psutil\n",
    "from tqdm import tqdm\n",
    "\n",
    "# 1. Calculate Optimal Chunk Size Based on Available Memory\n",
    "\n",
    "sample_file = r\"C:\\Users\\kpbon\\Desktop\\Azubi Africa\\Project 1\\data\\2020\\April2020TransBorderRawData\\Apr 2020\\dot1_0420.csv\"\n",
    "sample_df = pd.read_csv(sample_file, nrows=1000)  # Load a sample to estimate row size\n",
    "row_size = sample_df.memory_usage(deep=True).sum() / 1000  # Average size per row (bytes)\n",
    "memory_budget = psutil.virtual_memory().available * 0.1  # Use 10% of available RAM\n",
    "chunksize = int(memory_budget / row_size)  # Rows per chunk\n",
    "\n",
    "print('------------------------------------------------------')\n",
    "print(f\"Using chunk size: {chunksize}\")\n",
    "print('------------------------------------------------------')\n",
    "\n",
    "# 2. Setup Main Folder and Dataset Storage\n",
    "\n",
    "data_folder = r'C:\\Users\\kpbon\\Desktop\\Azubi Africa\\Project 1\\data'\n",
    "data_dict = {'dot1': [], 'dot2': [], 'dot3': []}  # Store combined chunks by type\n",
    "\n",
    "# 3. Month Name to Month Number Mapping\n",
    "\n",
    "month_mapping = {\n",
    "    \"Jan\": \"01\", \"Feb\": \"02\", \"Mar\": \"03\", \"Apr\": \"04\", \"May\": \"05\", \"Jun\": \"06\",\n",
    "    \"Jul\": \"07\", \"Aug\": \"08\", \"Sep\": \"09\", \"Oct\": \"10\", \"Nov\": \"11\", \"Dec\": \"12\"\n",
    "}\n",
    "\n",
    "# 4. Loop Through All Year Folders (2020–2024)\n",
    "\n",
    "for year in tqdm(['2020', '2021', '2022', '2023', '2024'], desc=\"Processing Years\"):\n",
    "    year_path = os.path.join(data_folder, year)\n",
    "\n",
    "    # Loop through wrapper folders like \"April2020TransBorderRawData\"\n",
    "    for wrapper_folder in tqdm(os.listdir(year_path), desc=f\"Processing folders in {year}\"):\n",
    "        wrapper_path = os.path.join(year_path, wrapper_folder)\n",
    "\n",
    "        # Skip if it's not a directory\n",
    "        if not os.path.isdir(wrapper_path):\n",
    "            continue\n",
    "\n",
    "        # Loop through actual month folders like \"Apr 2020\"\n",
    "        for month_folder in os.listdir(wrapper_path):\n",
    "            month_path = os.path.join(wrapper_path, month_folder)\n",
    "\n",
    "            # Extract month and year\n",
    "            if \" \" not in month_folder:\n",
    "                continue  # Skip folders not in expected format\n",
    "\n",
    "            month_name, folder_year = month_folder.split(\" \")\n",
    "            month_number = month_mapping.get(month_name[:3])\n",
    "            file_suffix = f\"_{month_number}{year[-2:]}\"  # E.g., _0420\n",
    "\n",
    "            # 5. Identify Files with Expected Names and Extensions\n",
    "\n",
    "            pattern = os.path.join(month_path, f\"dot*{file_suffix}.*\")\n",
    "            all_files = glob.glob(pattern)\n",
    "            target_files = [\n",
    "                f for f in all_files\n",
    "                if os.path.basename(f) in [\n",
    "                    f\"dot1{file_suffix}.csv\", f\"dot2{file_suffix}.csv\", f\"dot3{file_suffix}.csv\",\n",
    "                    f\"dot1{file_suffix}.xlsx\", f\"dot2{file_suffix}.xlsx\", f\"dot3{file_suffix}.xlsx\",\n",
    "                    f\"dot1{file_suffix}.xls\",  f\"dot2{file_suffix}.xls\",  f\"dot3{file_suffix}.xls\"\n",
    "                ]\n",
    "            ]\n",
    "\n",
    "            # 6. Read Each File by Chunk and Store in Corresponding Type\n",
    "\n",
    "            for file in tqdm(target_files, desc=f\"Reading files in {month_folder}\"):\n",
    "                dataset_type = os.path.basename(file).split('_')[0]\n",
    "\n",
    "                try:\n",
    "                    if file.endswith('.csv'):\n",
    "                        for chunk in pd.read_csv(file, chunksize=chunksize):\n",
    "                            data_dict[dataset_type].append(chunk)\n",
    "                    elif file.endswith(('.xlsx', '.xls')):\n",
    "                        df = pd.read_excel(file)\n",
    "                        data_dict[dataset_type].append(df)\n",
    "                except Exception as e:\n",
    "                    print(f\"Error reading file {file}: {e}\")\n",
    "\n",
    "# 7. Concatenate All Chunks into Final DataFrames\n",
    "\n",
    "all_dot1 = pd.concat(data_dict['dot1'], ignore_index=True) if data_dict['dot1'] else pd.DataFrame()\n",
    "all_dot2 = pd.concat(data_dict['dot2'], ignore_index=True) if data_dict['dot2'] else pd.DataFrame()\n",
    "all_dot3 = pd.concat(data_dict['dot3'], ignore_index=True) if data_dict['dot3'] else pd.DataFrame()\n",
    "\n",
    "# 8. Print Final Dataset Shapes\n",
    "\n",
    "print('------------------------------------------------------')\n",
    "print('All dot1 shape:', all_dot1.shape)\n",
    "print('All dot2 shape:', all_dot2.shape)\n",
    "print('All dot3 shape:', all_dot3.shape)\n",
    "print('------------------------------------------------------')\n"
   ]
  },
  {
   "cell_type": "markdown",
   "id": "d76572fa-e7bc-46c5-80d3-fc4cdb699733",
   "metadata": {},
   "source": [
    "### DOT1: Dataset Summary\n",
    "This section provides a concise overview of the DOT1 dataset, including:\n",
    "- The number of rows and columns\n",
    "- Column data types\n",
    "- Memory usage\n",
    "- Non-null counts per column\n"
   ]
  },
  {
   "cell_type": "code",
   "execution_count": 19,
   "id": "57ea12ba-eaf6-49ba-8cf5-b9d70fa15f62",
   "metadata": {},
   "outputs": [
    {
     "name": "stdout",
     "output_type": "stream",
     "text": [
      "\n",
      "========== DOT1 Dataset Summary ==========\n",
      "<class 'pandas.core.frame.DataFrame'>\n",
      "RangeIndex: 214171 entries, 0 to 214170\n",
      "Data columns (total 14 columns):\n",
      " #   Column           Non-Null Count   Dtype  \n",
      "---  ------           --------------   -----  \n",
      " 0   TRDTYPE          214171 non-null  int64  \n",
      " 1   USASTATE         214171 non-null  object \n",
      " 2   DEPE             214171 non-null  object \n",
      " 3   DISAGMOT         214171 non-null  int64  \n",
      " 4   MEXSTATE         61209 non-null   object \n",
      " 5   CANPROV          136751 non-null  object \n",
      " 6   COUNTRY          214171 non-null  int64  \n",
      " 7   VALUE            214171 non-null  int64  \n",
      " 8   SHIPWT           214171 non-null  int64  \n",
      " 9   FREIGHT_CHARGES  214171 non-null  int64  \n",
      " 10  DF               133167 non-null  float64\n",
      " 11  CONTCODE         214171 non-null  object \n",
      " 12  MONTH            214171 non-null  int64  \n",
      " 13  YEAR             214171 non-null  int64  \n",
      "dtypes: float64(1), int64(8), object(5)\n",
      "memory usage: 22.9+ MB\n",
      "None\n"
     ]
    }
   ],
   "source": [
    "print(\"\\n========== DOT1 Dataset Summary ==========\")\n",
    "print(all_dot1.info())\n"
   ]
  },
  {
   "cell_type": "code",
   "execution_count": 31,
   "id": "01a8c8ab-de6f-4c9a-8df9-298c5eaabc1c",
   "metadata": {},
   "outputs": [
    {
     "name": "stdout",
     "output_type": "stream",
     "text": [
      "\n",
      "========== DOT2 Dataset Summary ==========\n",
      "<class 'pandas.core.frame.DataFrame'>\n",
      "RangeIndex: 585849 entries, 0 to 585848\n",
      "Data columns (total 14 columns):\n",
      " #   Column           Non-Null Count   Dtype  \n",
      "---  ------           --------------   -----  \n",
      " 0   TRDTYPE          585849 non-null  int64  \n",
      " 1   USASTATE         585849 non-null  object \n",
      " 2   COMMODITY2       585849 non-null  int64  \n",
      " 3   DISAGMOT         585849 non-null  int64  \n",
      " 4   MEXSTATE         196421 non-null  object \n",
      " 5   CANPROV          353611 non-null  object \n",
      " 6   COUNTRY          585849 non-null  int64  \n",
      " 7   VALUE            585849 non-null  int64  \n",
      " 8   SHIPWT           585849 non-null  int64  \n",
      " 9   FREIGHT_CHARGES  585849 non-null  int64  \n",
      " 10  DF               406105 non-null  float64\n",
      " 11  CONTCODE         585849 non-null  object \n",
      " 12  MONTH            585849 non-null  int64  \n",
      " 13  YEAR             585849 non-null  int64  \n",
      "dtypes: float64(1), int64(9), object(4)\n",
      "memory usage: 62.6+ MB\n",
      "None\n"
     ]
    }
   ],
   "source": [
    "print(\"\\n========== DOT2 Dataset Summary ==========\")\n",
    "print(all_dot2.info())\n"
   ]
  },
  {
   "cell_type": "code",
   "execution_count": 33,
   "id": "ada87236-07a5-4042-8ca4-9fca7a1c5b4b",
   "metadata": {},
   "outputs": [
    {
     "name": "stdout",
     "output_type": "stream",
     "text": [
      "\n",
      "========== DOT3 Dataset Summary ==========\n",
      "<class 'pandas.core.frame.DataFrame'>\n",
      "RangeIndex: 135189 entries, 0 to 135188\n",
      "Data columns (total 12 columns):\n",
      " #   Column           Non-Null Count   Dtype  \n",
      "---  ------           --------------   -----  \n",
      " 0   TRDTYPE          135189 non-null  int64  \n",
      " 1   DEPE             135189 non-null  object \n",
      " 2   COMMODITY2       135189 non-null  int64  \n",
      " 3   DISAGMOT         135189 non-null  int64  \n",
      " 4   COUNTRY          135189 non-null  int64  \n",
      " 5   VALUE            135189 non-null  int64  \n",
      " 6   SHIPWT           135189 non-null  int64  \n",
      " 7   FREIGHT_CHARGES  135189 non-null  int64  \n",
      " 8   DF               80752 non-null   float64\n",
      " 9   CONTCODE         135189 non-null  object \n",
      " 10  MONTH            135189 non-null  int64  \n",
      " 11  YEAR             135189 non-null  int64  \n",
      "dtypes: float64(1), int64(9), object(2)\n",
      "memory usage: 12.4+ MB\n",
      "None\n"
     ]
    }
   ],
   "source": [
    "print(\"\\n========== DOT3 Dataset Summary ==========\")\n",
    "print(all_dot3.info())\n"
   ]
  },
  {
   "cell_type": "markdown",
   "id": "eede8ea8-0acb-4436-aa71-d181fc37edae",
   "metadata": {},
   "source": [
    "### UNDERSTANDING THE DATASET\n",
    "\n",
    "DOT 1, DOT 2, and DOT 3 have different sets of columns. However, they all share the following 10 columns:  \n",
    "**TRDTYPE**, **DISAGMOT**, **COUNTRY**, **VALUE**, **SHIPWT**, **FREIGHT_CHARGES**, **DF**, **CONTCODE**, **MONTH**, and **YEAR**.\n",
    "\n",
    "In addition:\n",
    "- **DOT 1** and **DOT 2** have **three additional columns** in common: **USASTATE**, **MEXSTATE**, and **CANPROV**.\n",
    "- **DOT 1** and **DOT 3** share **one additional column**: **DEPE**.\n",
    "- **DOT 2** and **DOT 3** share **one additional column**: **COMMODITY2**.\n",
    "\n",
    "- **Note**: This will result in null values for the columns that are not in all of them when the data is merged\n"
   ]
  },
  {
   "cell_type": "markdown",
   "id": "6aaddf92-6418-4902-8913-f5d3506bf2aa",
   "metadata": {},
   "source": [
    "### Missing Values Check\n",
    "This step helps identify columns with missing data and how many null values each contains.\n"
   ]
  },
  {
   "cell_type": "code",
   "execution_count": 25,
   "id": "e7bc9cac-83ca-445a-b02d-52d5d592abbb",
   "metadata": {},
   "outputs": [
    {
     "name": "stdout",
     "output_type": "stream",
     "text": [
      "\n",
      "Missing values in dot1:\n",
      "TRDTYPE                 0\n",
      "USASTATE                0\n",
      "DEPE                    0\n",
      "DISAGMOT                0\n",
      "MEXSTATE           152962\n",
      "CANPROV             77420\n",
      "COUNTRY                 0\n",
      "VALUE                   0\n",
      "SHIPWT                  0\n",
      "FREIGHT_CHARGES         0\n",
      "DF                  81004\n",
      "CONTCODE                0\n",
      "MONTH                   0\n",
      "YEAR                    0\n",
      "dtype: int64\n"
     ]
    }
   ],
   "source": [
    "print(\"\\nMissing values in dot1:\")\n",
    "print(all_dot1.isnull().sum())\n"
   ]
  },
  {
   "cell_type": "code",
   "execution_count": 27,
   "id": "7bd743ba-6938-45c4-8847-2710bf203818",
   "metadata": {},
   "outputs": [
    {
     "name": "stdout",
     "output_type": "stream",
     "text": [
      "\n",
      "Missing values in dot2:\n",
      "TRDTYPE                 0\n",
      "USASTATE                0\n",
      "COMMODITY2              0\n",
      "DISAGMOT                0\n",
      "MEXSTATE           389428\n",
      "CANPROV            232238\n",
      "COUNTRY                 0\n",
      "VALUE                   0\n",
      "SHIPWT                  0\n",
      "FREIGHT_CHARGES         0\n",
      "DF                 179744\n",
      "CONTCODE                0\n",
      "MONTH                   0\n",
      "YEAR                    0\n",
      "dtype: int64\n"
     ]
    }
   ],
   "source": [
    "print(\"\\nMissing values in dot2:\")\n",
    "print(all_dot2.isnull().sum())\n"
   ]
  },
  {
   "cell_type": "code",
   "execution_count": 29,
   "id": "7bbfe0b4-8f5d-443b-86e4-44267564ebab",
   "metadata": {},
   "outputs": [
    {
     "name": "stdout",
     "output_type": "stream",
     "text": [
      "\n",
      "Missing values in dot3:\n",
      "TRDTYPE                0\n",
      "DEPE                   0\n",
      "COMMODITY2             0\n",
      "DISAGMOT               0\n",
      "COUNTRY                0\n",
      "VALUE                  0\n",
      "SHIPWT                 0\n",
      "FREIGHT_CHARGES        0\n",
      "DF                 54437\n",
      "CONTCODE               0\n",
      "MONTH                  0\n",
      "YEAR                   0\n",
      "dtype: int64\n"
     ]
    }
   ],
   "source": [
    "print(\"\\nMissing values in dot3:\")\n",
    "print(all_dot3.isnull().sum())"
   ]
  },
  {
   "cell_type": "code",
   "execution_count": 50,
   "id": "af296b10-82ab-40e6-b2f2-41c4c1b8d5e4",
   "metadata": {},
   "outputs": [],
   "source": [
    "merged_data = pd.concat([all_dot1, all_dot2, all_dot3], ignore_index = True)"
   ]
  },
  {
   "cell_type": "code",
   "execution_count": 51,
   "id": "849b7663-5786-4e8b-91a0-0d113b22c19b",
   "metadata": {},
   "outputs": [
    {
     "data": {
      "text/plain": [
       "(935209, 15)"
      ]
     },
     "execution_count": 51,
     "metadata": {},
     "output_type": "execute_result"
    }
   ],
   "source": [
    "merged_data.shape"
   ]
  },
  {
   "cell_type": "code",
   "execution_count": 54,
   "id": "902b4019-8e6d-4c27-a7aa-36bf07d9b759",
   "metadata": {
    "scrolled": true
   },
   "outputs": [
    {
     "data": {
      "text/html": [
       "<div>\n",
       "<style scoped>\n",
       "    .dataframe tbody tr th:only-of-type {\n",
       "        vertical-align: middle;\n",
       "    }\n",
       "\n",
       "    .dataframe tbody tr th {\n",
       "        vertical-align: top;\n",
       "    }\n",
       "\n",
       "    .dataframe thead th {\n",
       "        text-align: right;\n",
       "    }\n",
       "</style>\n",
       "<table border=\"1\" class=\"dataframe\">\n",
       "  <thead>\n",
       "    <tr style=\"text-align: right;\">\n",
       "      <th></th>\n",
       "      <th>TRDTYPE</th>\n",
       "      <th>USASTATE</th>\n",
       "      <th>DEPE</th>\n",
       "      <th>DISAGMOT</th>\n",
       "      <th>MEXSTATE</th>\n",
       "      <th>CANPROV</th>\n",
       "      <th>COUNTRY</th>\n",
       "      <th>VALUE</th>\n",
       "      <th>SHIPWT</th>\n",
       "      <th>FREIGHT_CHARGES</th>\n",
       "      <th>DF</th>\n",
       "      <th>CONTCODE</th>\n",
       "      <th>MONTH</th>\n",
       "      <th>YEAR</th>\n",
       "      <th>COMMODITY2</th>\n",
       "    </tr>\n",
       "  </thead>\n",
       "  <tbody>\n",
       "    <tr>\n",
       "      <th>0</th>\n",
       "      <td>1</td>\n",
       "      <td>AK</td>\n",
       "      <td>0115</td>\n",
       "      <td>5</td>\n",
       "      <td>NaN</td>\n",
       "      <td>XB</td>\n",
       "      <td>1220</td>\n",
       "      <td>4660</td>\n",
       "      <td>0</td>\n",
       "      <td>67</td>\n",
       "      <td>2.0</td>\n",
       "      <td>X</td>\n",
       "      <td>4</td>\n",
       "      <td>2020</td>\n",
       "      <td>NaN</td>\n",
       "    </tr>\n",
       "    <tr>\n",
       "      <th>1</th>\n",
       "      <td>1</td>\n",
       "      <td>AK</td>\n",
       "      <td>0901</td>\n",
       "      <td>5</td>\n",
       "      <td>NaN</td>\n",
       "      <td>XO</td>\n",
       "      <td>1220</td>\n",
       "      <td>14360</td>\n",
       "      <td>0</td>\n",
       "      <td>282</td>\n",
       "      <td>1.0</td>\n",
       "      <td>X</td>\n",
       "      <td>4</td>\n",
       "      <td>2020</td>\n",
       "      <td>NaN</td>\n",
       "    </tr>\n",
       "    <tr>\n",
       "      <th>2</th>\n",
       "      <td>1</td>\n",
       "      <td>AK</td>\n",
       "      <td>20XX</td>\n",
       "      <td>1</td>\n",
       "      <td>XX</td>\n",
       "      <td>NaN</td>\n",
       "      <td>2010</td>\n",
       "      <td>4293733</td>\n",
       "      <td>24971000</td>\n",
       "      <td>0</td>\n",
       "      <td>1.0</td>\n",
       "      <td>0</td>\n",
       "      <td>4</td>\n",
       "      <td>2020</td>\n",
       "      <td>NaN</td>\n",
       "    </tr>\n",
       "    <tr>\n",
       "      <th>3</th>\n",
       "      <td>1</td>\n",
       "      <td>AK</td>\n",
       "      <td>20XX</td>\n",
       "      <td>3</td>\n",
       "      <td>NaN</td>\n",
       "      <td>XA</td>\n",
       "      <td>1220</td>\n",
       "      <td>28283</td>\n",
       "      <td>443</td>\n",
       "      <td>563</td>\n",
       "      <td>1.0</td>\n",
       "      <td>X</td>\n",
       "      <td>4</td>\n",
       "      <td>2020</td>\n",
       "      <td>NaN</td>\n",
       "    </tr>\n",
       "    <tr>\n",
       "      <th>4</th>\n",
       "      <td>1</td>\n",
       "      <td>AK</td>\n",
       "      <td>20XX</td>\n",
       "      <td>3</td>\n",
       "      <td>NaN</td>\n",
       "      <td>XA</td>\n",
       "      <td>1220</td>\n",
       "      <td>29848</td>\n",
       "      <td>69</td>\n",
       "      <td>538</td>\n",
       "      <td>2.0</td>\n",
       "      <td>X</td>\n",
       "      <td>4</td>\n",
       "      <td>2020</td>\n",
       "      <td>NaN</td>\n",
       "    </tr>\n",
       "  </tbody>\n",
       "</table>\n",
       "</div>"
      ],
      "text/plain": [
       "   TRDTYPE USASTATE  DEPE  DISAGMOT MEXSTATE CANPROV  COUNTRY    VALUE  \\\n",
       "0        1       AK  0115         5      NaN      XB     1220     4660   \n",
       "1        1       AK  0901         5      NaN      XO     1220    14360   \n",
       "2        1       AK  20XX         1       XX     NaN     2010  4293733   \n",
       "3        1       AK  20XX         3      NaN      XA     1220    28283   \n",
       "4        1       AK  20XX         3      NaN      XA     1220    29848   \n",
       "\n",
       "     SHIPWT  FREIGHT_CHARGES   DF CONTCODE  MONTH  YEAR  COMMODITY2  \n",
       "0         0               67  2.0        X      4  2020         NaN  \n",
       "1         0              282  1.0        X      4  2020         NaN  \n",
       "2  24971000                0  1.0        0      4  2020         NaN  \n",
       "3       443              563  1.0        X      4  2020         NaN  \n",
       "4        69              538  2.0        X      4  2020         NaN  "
      ]
     },
     "execution_count": 54,
     "metadata": {},
     "output_type": "execute_result"
    }
   ],
   "source": [
    "merged_data.head()"
   ]
  },
  {
   "cell_type": "code",
   "execution_count": 57,
   "id": "264f5078-7627-480d-b5a7-eca51f30d0ef",
   "metadata": {},
   "outputs": [
    {
     "data": {
      "text/plain": [
       "array(['X', '0', '1', 0, 1], dtype=object)"
      ]
     },
     "execution_count": 57,
     "metadata": {},
     "output_type": "execute_result"
    }
   ],
   "source": [
    "merged_data['CONTCODE'].unique()"
   ]
  },
  {
   "cell_type": "markdown",
   "id": "d3c51253-c8ad-49b1-a78c-c488fea05d38",
   "metadata": {},
   "source": [
    "### Interpretation of `CONTCODE` (Container Code)\n",
    "\n",
    "- `'X'` - **Containerized**  \n",
    "- `'0'` - **Non-Containerized**  \n",
    "- `'1'` - **Unknown** (no official match found, assumed based on absence of definition)\n",
    "\n",
    "To make the data more meaningful during analysis, I assigned:\n",
    "- `'X'` as **\"Containerized\"**\n",
    "- `'0'` as **\"Non-Containerized\"**\n",
    "- `'1'` as **\"Unknown\"**, since it had no documented explanation\n"
   ]
  },
  {
   "cell_type": "code",
   "execution_count": 59,
   "id": "4a59623d-61d7-4722-9f87-1a274019f00b",
   "metadata": {},
   "outputs": [],
   "source": [
    "merged_data['CONTCODE'] = merged_data['CONTCODE'].replace({'X': 'Containerized', '0': 'Non-Containerized',\n",
    "                                                         0: 'Non-Containerized', '1': 'Unknown', 1: 'Unknown'})"
   ]
  },
  {
   "cell_type": "code",
   "execution_count": 61,
   "id": "4f38fc81-75f1-46ed-8c74-0a55f923271a",
   "metadata": {},
   "outputs": [
    {
     "data": {
      "text/plain": [
       "array(['Containerized', 'Non-Containerized', 'Unknown'], dtype=object)"
      ]
     },
     "execution_count": 61,
     "metadata": {},
     "output_type": "execute_result"
    }
   ],
   "source": [
    "merged_data['CONTCODE'].unique()"
   ]
  },
  {
   "cell_type": "code",
   "execution_count": 73,
   "id": "0bf1a277-599c-4a0d-bcc3-bc436162610b",
   "metadata": {},
   "outputs": [
    {
     "name": "stdout",
     "output_type": "stream",
     "text": [
      "<class 'pandas.core.frame.DataFrame'>\n",
      "RangeIndex: 935209 entries, 0 to 935208\n",
      "Data columns (total 15 columns):\n",
      " #   Column           Non-Null Count   Dtype  \n",
      "---  ------           --------------   -----  \n",
      " 0   TRDTYPE          935209 non-null  int64  \n",
      " 1   USASTATE         800020 non-null  object \n",
      " 2   DEPE             349360 non-null  object \n",
      " 3   DISAGMOT         935209 non-null  int64  \n",
      " 4   MEXSTATE         257630 non-null  object \n",
      " 5   CANPROV          490362 non-null  object \n",
      " 6   COUNTRY          935209 non-null  int64  \n",
      " 7   VALUE            935209 non-null  int64  \n",
      " 8   SHIPWT           935209 non-null  int64  \n",
      " 9   FREIGHT_CHARGES  935209 non-null  int64  \n",
      " 10  DF               620024 non-null  float64\n",
      " 11  CONTCODE         935209 non-null  object \n",
      " 12  MONTH            935209 non-null  int64  \n",
      " 13  YEAR             935209 non-null  int64  \n",
      " 14  COMMODITY2       721038 non-null  float64\n",
      "dtypes: float64(2), int64(8), object(5)\n",
      "memory usage: 107.0+ MB\n"
     ]
    }
   ],
   "source": [
    "merged_data.info()"
   ]
  },
  {
   "cell_type": "code",
   "execution_count": 71,
   "id": "ee448465-bbc5-4066-bded-60cd0784396d",
   "metadata": {},
   "outputs": [
    {
     "data": {
      "text/plain": [
       "TRDTYPE                 2\n",
       "USASTATE               52\n",
       "DEPE                  241\n",
       "DISAGMOT                8\n",
       "MEXSTATE               33\n",
       "CANPROV                14\n",
       "COUNTRY                 2\n",
       "VALUE              430405\n",
       "SHIPWT             153131\n",
       "FREIGHT_CHARGES     86711\n",
       "DF                      2\n",
       "CONTCODE                3\n",
       "MONTH                   7\n",
       "YEAR                    2\n",
       "COMMODITY2             98\n",
       "dtype: int64"
      ]
     },
     "execution_count": 71,
     "metadata": {},
     "output_type": "execute_result"
    }
   ],
   "source": [
    "merged_data.nunique()"
   ]
  },
  {
   "cell_type": "code",
   "execution_count": 75,
   "id": "f5d43263-c010-47a6-8ea4-7c2eea9205fa",
   "metadata": {},
   "outputs": [
    {
     "data": {
      "text/plain": [
       "TRDTYPE                 0\n",
       "USASTATE           135189\n",
       "DEPE               585849\n",
       "DISAGMOT                0\n",
       "MEXSTATE           677579\n",
       "CANPROV            444847\n",
       "COUNTRY                 0\n",
       "VALUE                   0\n",
       "SHIPWT                  0\n",
       "FREIGHT_CHARGES         0\n",
       "DF                 315185\n",
       "CONTCODE                0\n",
       "MONTH                   0\n",
       "YEAR                    0\n",
       "COMMODITY2         214171\n",
       "dtype: int64"
      ]
     },
     "execution_count": 75,
     "metadata": {},
     "output_type": "execute_result"
    }
   ],
   "source": [
    "merged_data.isnull().sum()"
   ]
  },
  {
   "cell_type": "markdown",
   "id": "6c35d4a1-c1ab-445d-a220-c819c88f64a3",
   "metadata": {},
   "source": [
    "### MISSING VALUES EXPLAINED\n",
    "\n",
    "As predicted earlier, missing values have been introduced due to the merging of datasets with different column structures. Columns that are not present in all datasets appear as null in the combined dataset. This is expected and reflects the original layout of the individual files.\n",
    "\n",
    "In addition, some columns—though present across all datasets—may still contain missing values within them. These gaps could result from incomplete data entries in the source files and are not caused by the merging process.\n",
    "\n",
    "Overall, the presence of missing values is both structural and data-driven, and it will be addressed appropriately during the data cleaning phase.\n"
   ]
  },
  {
   "cell_type": "code",
   "execution_count": 85,
   "id": "e36e7c4a-a28c-4e75-8b63-7710ef9e6ab0",
   "metadata": {},
   "outputs": [
    {
     "data": {
      "text/plain": [
       "MEXSTATE           72.452147\n",
       "DEPE               62.643644\n",
       "CANPROV            47.566587\n",
       "DF                 33.702092\n",
       "COMMODITY2         22.900870\n",
       "USASTATE           14.455485\n",
       "TRDTYPE             0.000000\n",
       "DISAGMOT            0.000000\n",
       "COUNTRY             0.000000\n",
       "VALUE               0.000000\n",
       "SHIPWT              0.000000\n",
       "FREIGHT_CHARGES     0.000000\n",
       "CONTCODE            0.000000\n",
       "MONTH               0.000000\n",
       "YEAR                0.000000\n",
       "dtype: float64"
      ]
     },
     "execution_count": 85,
     "metadata": {},
     "output_type": "execute_result"
    }
   ],
   "source": [
    "# Calculate the percentage of missing values for each column\n",
    "missing_percentage = (merged_data.isnull().sum() / len(merged_data)) * 100\n",
    "\n",
    "# Display missing percentages in descending order\n",
    "missing_percentage.sort_values(ascending=False)\n"
   ]
  },
  {
   "cell_type": "markdown",
   "id": "2abd6225-3712-4823-8b22-2f6b3a177303",
   "metadata": {},
   "source": [
    "#### Retaining High-Missing Columns\n",
    "\n",
    "**MEXSTATE**, **DEPE**, and **CANPROV** have high missing values but are essential for geographic and operational context.  \n",
    "Their missing entries are expected based on country or transport mode, so they should be **kept**, not removed.\n",
    "-- The rest of the columns with missing values such as COOMMODITY2 are within an allowable range for missing values\n"
   ]
  },
  {
   "cell_type": "code",
   "execution_count": 103,
   "id": "3637b527-1865-4159-a385-a5205cf364fd",
   "metadata": {},
   "outputs": [],
   "source": [
    "# Save the merged_data DataFrame to a CSV file\n",
    "merged_data.to_csv(\"merged_data_output.csv\", index=False)\n"
   ]
  },
  {
   "cell_type": "markdown",
   "id": "e0a2860e-11cf-4c18-9f3d-bbfcb5809dc9",
   "metadata": {},
   "source": [
    "### The data visualisation will be done with PowerBi"
   ]
  },
  {
   "cell_type": "code",
   "execution_count": null,
   "id": "51e116a0-c6f3-4e6c-ac59-3513d4268f53",
   "metadata": {},
   "outputs": [],
   "source": []
  }
 ],
 "metadata": {
  "kernelspec": {
   "display_name": "Python 3 (ipykernel)",
   "language": "python",
   "name": "python3"
  },
  "language_info": {
   "codemirror_mode": {
    "name": "ipython",
    "version": 3
   },
   "file_extension": ".py",
   "mimetype": "text/x-python",
   "name": "python",
   "nbconvert_exporter": "python",
   "pygments_lexer": "ipython3",
   "version": "3.12.4"
  }
 },
 "nbformat": 4,
 "nbformat_minor": 5
}
